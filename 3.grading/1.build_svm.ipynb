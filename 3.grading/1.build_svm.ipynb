{
 "cells": [
  {
   "cell_type": "code",
   "execution_count": 1,
   "metadata": {
    "scrolled": true
   },
   "outputs": [
    {
     "name": "stdout",
     "output_type": "stream",
     "text": [
      "(44955, 3)\n"
     ]
    }
   ],
   "source": [
    "import cv2\n",
    "import numpy as np\n",
    "import os\n",
    "import xlrd\n",
    "from sklearn import svm\n",
    "from sklearn.model_selection import train_test_split\n",
    "from sklearn.metrics import classification_report,accuracy_score\n",
    "from sklearn.preprocessing import LabelEncoder\n",
    "from sklearn.ensemble import RandomForestClassifier\n",
    "import joblib\n",
    "from itertools import combinations\n",
    "from openpyxl import load_workbook\n",
    "import pandas as pd\n",
    "from itertools import islice\n",
    "\n",
    "work_book = load_workbook('data_all.xlsx')\n",
    "work_sheel = work_book['Sheet']\n",
    "\n",
    "# label = np.array(work_sheel.col_values(0, start_rowx=0, end_rowx=None))               # 标签\n",
    "# data1 = np.array(work_sheel.col_values(1, start_rowx=0, end_rowx=None)).reshape(-1, 1)# B\n",
    "# data2 = np.array(work_sheel.col_values(2, start_rowx=0, end_rowx=None)).reshape(-1, 1)# G\n",
    "# data3 = np.array(work_sheel.col_values(3, start_rowx=0, end_rowx=None)).reshape(-1, 1)# R\n",
    "# data4 = np.array(work_sheel.col_values(4, start_rowx=0, end_rowx=None)).reshape(-1, 1)# GRE\n",
    "# data5 = np.array(work_sheel.col_values(5, start_rowx=0, end_rowx=None)).reshape(-1, 1)# NIR\n",
    "# data6 = np.array(work_sheel.col_values(6, start_rowx=0, end_rowx=None)).reshape(-1, 1)# REG\n",
    "# data7 = np.array(work_sheel.col_values(7, start_rowx=0, end_rowx=None)).reshape(-1, 1)# RED\n",
    "\n",
    "data = np.array(list(work_sheel.values))\n",
    "label = data[:, 0].ravel()\n",
    "data = data[:, 1:].reshape(-1, 7)\n",
    "\n",
    "# data = np.hstack([data1, data2, data3, data4, data5, data6, data7])\n",
    "comb = [0,1,2,3,4,5,6]\n",
    "data_use = []\n",
    "print(data.shape)"
   ]
  },
  {
   "cell_type": "code",
   "execution_count": 2,
   "metadata": {},
   "outputs": [
    {
     "name": "stdout",
     "output_type": "stream",
     "text": [
      "Accuracy:  0.9012345679012346\n",
      "Done!\n"
     ]
    }
   ],
   "source": [
    "clf = svm.SVC(C=1)\n",
    "X_train, X_test, y_train, y_test = train_test_split(data,\n",
    "                                            label,\n",
    "                                            test_size=0.2,\n",
    "                                            random_state=21)\n",
    "clf.fit(X_train, y_train)\n",
    "y_pred = clf.predict(X_test)\n",
    "Accuracy = accuracy_score(y_test, y_pred)\n",
    "print('Accuracy: ', Accuracy)\n",
    "joblib.dump(clf, 'svm.pkl')\n",
    "print('Done!')"
   ]
  }
 ],
 "metadata": {
  "kernelspec": {
   "display_name": "Python 3 (ipykernel)",
   "language": "python",
   "name": "python3"
  },
  "language_info": {
   "codemirror_mode": {
    "name": "ipython",
    "version": 3
   },
   "file_extension": ".py",
   "mimetype": "text/x-python",
   "name": "python",
   "nbconvert_exporter": "python",
   "pygments_lexer": "ipython3",
   "version": "3.9.13"
  }
 },
 "nbformat": 4,
 "nbformat_minor": 4
}
